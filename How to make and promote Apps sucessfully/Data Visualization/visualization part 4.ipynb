{
 "cells": [
  {
   "cell_type": "code",
   "execution_count": 1,
   "metadata": {},
   "outputs": [],
   "source": [
    "import csv\n",
    "import pandas as pd\n",
    "import numpy as ny \n",
    "df = pd.read_csv('google app final.csv',index_col=0)"
   ]
  },
  {
   "cell_type": "code",
   "execution_count": 2,
   "metadata": {},
   "outputs": [],
   "source": [
    "Everyone=df['content_rating'].apply(lambda t:'Everyone' in str(t)).aggregate('sum')\n",
    "Teen=df['content_rating'].apply(lambda t:'Teen' in str(t)).aggregate('sum')\n",
    "Everyone_10plus=df['content_rating'].apply(lambda t:'Everyone 10+' in str(t)).aggregate('sum')\n",
    "Mature_17plus=df['content_rating'].apply(lambda t:'Mature 17+' in str(t)).aggregate('sum')"
   ]
  },
  {
   "cell_type": "code",
   "execution_count": 3,
   "metadata": {},
   "outputs": [
    {
     "data": {
      "text/html": [
       "<iframe id=\"igraph\" scrolling=\"no\" style=\"border:none;\" seamless=\"seamless\" src=\"https://plot.ly/~sayaka/16.embed\" height=\"525px\" width=\"100%\"></iframe>"
      ],
      "text/plain": [
       "<plotly.tools.PlotlyDisplay object>"
      ]
     },
     "execution_count": 3,
     "metadata": {},
     "output_type": "execute_result"
    }
   ],
   "source": [
    "import plotly\n",
    "import plotly.plotly as py\n",
    "import plotly.graph_objs as go\n",
    "plotly.tools.set_credentials_file(username='sayaka', api_key='gIQREJIrX2NDqdflpwS8')\n",
    "\n",
    "labels = ['Everyone','Teen','Mature 17+','Everyone 10+']\n",
    "values = [Everyone,Teen,Mature_17plus,Everyone_10plus]\n",
    "colors = ['#CD5555', '#CD6A6A', '#CD9B9B', '#FFC1C1']\n",
    "\n",
    "trace = go.Pie(labels=labels, values=values,\n",
    "               hoverinfo='label+percent', textinfo='value', \n",
    "               textfont=dict(size=20),\n",
    "               title='Content Rating',\n",
    "               titlefont=dict(size=40),\n",
    "               marker=dict(colors=colors, \n",
    "                           line=dict(width=1)))\n",
    "\n",
    "py.iplot([trace], filename='Content Rating')"
   ]
  },
  {
   "cell_type": "code",
   "execution_count": 4,
   "metadata": {},
   "outputs": [],
   "source": [
    "a = df[(df['content_rating'] == 'Teen')]\n",
    "b = df[(df['content_rating'] == 'Everyone 10+')]\n",
    "c = df[(df['content_rating'] == 'Mature 17+')] \n",
    "d = df[(df['content_rating'] == 'Everyone')]\n",
    "User_type = pd.concat([a,b,c])"
   ]
  },
  {
   "cell_type": "code",
   "execution_count": 5,
   "metadata": {},
   "outputs": [
    {
     "data": {
      "text/html": [
       "<iframe id=\"igraph\" scrolling=\"no\" style=\"border:none;\" seamless=\"seamless\" src=\"https://plot.ly/~sayaka/10.embed\" height=\"525px\" width=\"100%\"></iframe>"
      ],
      "text/plain": [
       "<plotly.tools.PlotlyDisplay object>"
      ]
     },
     "execution_count": 5,
     "metadata": {},
     "output_type": "execute_result"
    }
   ],
   "source": [
    "import plotly.plotly as py\n",
    "import plotly.graph_objs as go\n",
    "\n",
    "trace1 = go.Bar(\n",
    "    x = User_type['category'],\n",
    "    y = d['content_rating'],\n",
    "    name= '',\n",
    "    marker=dict(\n",
    "        color='white',\n",
    "))\n",
    "trace2 = go.Bar(\n",
    "    x = User_type['category'],\n",
    "    y = a['content_rating'],\n",
    "    name='Teen'\n",
    ")\n",
    "trace3 = go.Bar(\n",
    "    x = User_type['category'],\n",
    "    y= b['content_rating'],\n",
    "    name='Everyone 10+'\n",
    ")\n",
    "trace4 = go.Bar(\n",
    "    x = User_type['category'],\n",
    "    y =c['content_rating'],\n",
    "    name='Mature 17+'\n",
    ")\n",
    "data = [trace1,trace2, trace3,trace4]\n",
    "layout = go.Layout(\n",
    "    barmode='stack',\n",
    "    title='Content Rating& Category of Popular Apps'\n",
    ")\n",
    "\n",
    "fig = go.Figure(data=data, layout=layout)\n",
    "py.iplot(fig, title='Content Rating & Category',filename='stacked-bar')"
   ]
  },
  {
   "cell_type": "code",
   "execution_count": null,
   "metadata": {},
   "outputs": [],
   "source": []
  }
 ],
 "metadata": {
  "kernelspec": {
   "display_name": "Python 3",
   "language": "python",
   "name": "python3"
  },
  "language_info": {
   "codemirror_mode": {
    "name": "ipython",
    "version": 3
   },
   "file_extension": ".py",
   "mimetype": "text/x-python",
   "name": "python",
   "nbconvert_exporter": "python",
   "pygments_lexer": "ipython3",
   "version": "3.6.5"
  }
 },
 "nbformat": 4,
 "nbformat_minor": 2
}
