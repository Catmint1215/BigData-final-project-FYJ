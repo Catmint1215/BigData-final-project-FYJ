{
 "cells": [
  {
   "cell_type": "markdown",
   "metadata": {},
   "source": [
    "# How can we make and promote an app successfully?"
   ]
  },
  {
   "cell_type": "markdown",
   "metadata": {},
   "source": [
    "## I. Introduction"
   ]
  },
  {
   "cell_type": "markdown",
   "metadata": {},
   "source": [
    "According to Statista, the global mobile internet penetration has exceeded half the world’s population, while the average daily time spent accessing online content from a mobile device, such as a smartphone, a tablet computer or wearable, has reached 185 minutes daily among Millennials. Currently, the two largest global platforms for app distribution are Apple’s App Store, which caters to iOS users, and Google Play, the official app store for the Android OS. The fact that mobile apps are relatively easier to create than computer apps, as well as their considerably lower price has translated into a growing industry which produce every year more and more. It is impossible to know exactly how many apps are there, but as of March 2018 there were some 3.6 million apps in Google Play alone. So, how to create a successful mobile app winning more customers in fierce competition? What key ingredients do the popular apps possess? In order to figure out these questions, we make some descriptive statistical analysis in this report."
   ]
  },
  {
   "cell_type": "markdown",
   "metadata": {},
   "source": [
    "## II. Dataset "
   ]
  },
  {
   "cell_type": "markdown",
   "metadata": {},
   "source": [
    "The dataset contains web scraped data of the most popular 1000 apps in Google Play Store, and we use the dataset related to top 1000 apps in score provided by www.kaggle.com to enrich our project. There are 8 features that describe a given app, which are App Category, Rating, Reviews, Size, Installs, Type, Price, Content Rating. We make some descriptive statistical analysis on the dataset and conclude some attributes of these good Apps to give some suggestion to Apps developers."
   ]
  },
  {
   "cell_type": "markdown",
   "metadata": {},
   "source": [
    "### 1. About the Category "
   ]
  },
  {
   "cell_type": "code",
   "execution_count": null,
   "metadata": {},
   "outputs": [],
   "source": [
    "import pandas as pd\n",
    "import numpy as np\n",
    "df = pd.read_csv(\"google app final.csv\")\n",
    "df"
   ]
  },
  {
   "cell_type": "code",
   "execution_count": null,
   "metadata": {},
   "outputs": [],
   "source": [
    "from wordcloud import WordCloud\n",
    "df_category = df[\"category\"]\n",
    "text = df_category\n",
    "result= \"/\".join(text) #要分割开才行 如果是txt还要用jieba\n",
    "wordcloud = WordCloud(font_path=\"c:\\windows\\Fonts\\simhei.ttf\").generate(result) \n",
    "%pylab inline\n",
    "import matplotlib.pyplot as plt\n",
    "plt.imshow(wordcloud, interpolation='bilinear')\n",
    "plt.axis(\"off\")"
   ]
  },
  {
   "cell_type": "markdown",
   "metadata": {},
   "source": [
    "![Fig.1](https://github.com/Jasmine-dudu/Final-Project/blob/master/Figures-Final%20Project/Fig.1.png?raw=true)"
   ]
  },
  {
   "cell_type": "code",
   "execution_count": null,
   "metadata": {},
   "outputs": [],
   "source": [
    "df['installs'] = df['installs'].apply(lambda x: x.replace('+', '') if '+' in str(x) else x)\n",
    "df['installs'] = df['installs'].apply(lambda x: x.replace(',', '') if ',' in str(x) else x)\n",
    "df['installs'] = df['installs'].apply(lambda x: int(x))\n",
    "df['installs']=df['installs'].astype('float')"
   ]
  },
  {
   "cell_type": "code",
   "execution_count": null,
   "metadata": {},
   "outputs": [],
   "source": [
    "#installs = []\n",
    "#category = []\n",
    "#for i in df[\"installs\"]:\n",
    "   # installs = installs.append(i)\n",
    "#print(installs)"
   ]
  },
  {
   "cell_type": "code",
   "execution_count": null,
   "metadata": {},
   "outputs": [],
   "source": [
    "import pandas as pd\n",
    "import matplotlib.pyplot as plt  \n",
    "plt.rcParams['font.sans-serif'] = [u'SimHei']\n",
    "plt.rcParams['axes.unicode_minus'] = False\n",
    "\n",
    "df = pd.DataFrame({'Category':df[\"category\"],'Installs':df[\"installs\"]})\n",
    "groupbyDistrict=df.groupby('Category')\n",
    "groupbyD = groupbyDistrict.mean().sort_values('Installs', ascending=False).reset_index()\n",
    "\n",
    "'''\n",
    "groupbyD.columns = groupbyD.columns.droplevel(0) \n",
    "groupbyClass.rename(columns = {'':'Installs'},inplace = True)\n",
    "'''\n",
    "ax = groupbyD.head(3).plot.bar(x='Category', y='Installs', rot=0, color = [\"g\",\"y\",\"y\",\"y\",\"y\"])"
   ]
  },
  {
   "cell_type": "markdown",
   "metadata": {},
   "source": [
    "![Fig.2](https://github.com/Jasmine-dudu/Final-Project/blob/master/Figures-Final%20Project/Fig.2.png?raw=true)"
   ]
  },
  {
   "cell_type": "markdown",
   "metadata": {},
   "source": [
    "What the quantities are most is the apps related to Tools, Arcade, Action, Entertainment, and Simulation (word cloud diagram). However, Video Players & Editors, Communication, and productivity are the three kinds of applications downloaded most (bar chart). The mismatch between supply and users’ demand indicates there is still much room to develop for the apps offering service including playing and editing videos, communication, and productivity. "
   ]
  },
  {
   "cell_type": "markdown",
   "metadata": {},
   "source": [
    "### 2. About the Pricing Strategy "
   ]
  },
  {
   "cell_type": "code",
   "execution_count": null,
   "metadata": {},
   "outputs": [],
   "source": [
    "import csv\n",
    "import pandas as pd"
   ]
  },
  {
   "cell_type": "code",
   "execution_count": null,
   "metadata": {},
   "outputs": [],
   "source": [
    "df_free=pd.read_csv('free app.csv')"
   ]
  },
  {
   "cell_type": "code",
   "execution_count": null,
   "metadata": {},
   "outputs": [],
   "source": [
    "df_free"
   ]
  },
  {
   "cell_type": "code",
   "execution_count": null,
   "metadata": {},
   "outputs": [],
   "source": [
    "df_free['Type']='Free'"
   ]
  },
  {
   "cell_type": "code",
   "execution_count": null,
   "metadata": {},
   "outputs": [],
   "source": [
    "df_free"
   ]
  },
  {
   "cell_type": "code",
   "execution_count": null,
   "metadata": {},
   "outputs": [],
   "source": [
    "df_free=df_free[['title','score','size','installs','content_rating','category','Type','date']]"
   ]
  },
  {
   "cell_type": "code",
   "execution_count": null,
   "metadata": {},
   "outputs": [],
   "source": [
    "df_free"
   ]
  },
  {
   "cell_type": "code",
   "execution_count": null,
   "metadata": {},
   "outputs": [],
   "source": [
    "df_paid=pd.read_csv('paid app.csv')"
   ]
  },
  {
   "cell_type": "code",
   "execution_count": null,
   "metadata": {},
   "outputs": [],
   "source": [
    "df_paid"
   ]
  },
  {
   "cell_type": "code",
   "execution_count": null,
   "metadata": {},
   "outputs": [],
   "source": [
    "df_paid['Type']='Paid'"
   ]
  },
  {
   "cell_type": "code",
   "execution_count": null,
   "metadata": {},
   "outputs": [],
   "source": [
    "df_paid=df_paid[['title','score','size','installs','content_rating','category','Type','date']]"
   ]
  },
  {
   "cell_type": "code",
   "execution_count": null,
   "metadata": {},
   "outputs": [],
   "source": [
    "df_paid"
   ]
  },
  {
   "cell_type": "code",
   "execution_count": null,
   "metadata": {},
   "outputs": [],
   "source": [
    "frames=[df_free,df_paid]"
   ]
  },
  {
   "cell_type": "code",
   "execution_count": null,
   "metadata": {},
   "outputs": [],
   "source": [
    "df_app=pd.concat(frames)"
   ]
  },
  {
   "cell_type": "code",
   "execution_count": null,
   "metadata": {},
   "outputs": [],
   "source": [
    "df_app"
   ]
  },
  {
   "cell_type": "code",
   "execution_count": null,
   "metadata": {},
   "outputs": [],
   "source": [
    "df_app.to_csv('google app final.csv')"
   ]
  },
  {
   "cell_type": "code",
   "execution_count": null,
   "metadata": {},
   "outputs": [],
   "source": [
    "df_app['content_rating'].value_counts()"
   ]
  },
  {
   "cell_type": "code",
   "execution_count": null,
   "metadata": {},
   "outputs": [],
   "source": [
    "df=df_app"
   ]
  },
  {
   "cell_type": "code",
   "execution_count": null,
   "metadata": {},
   "outputs": [],
   "source": [
    "df['installs'] = df['installs'].apply(lambda x: x.replace('+', '') if '+' in str(x) else x)\n",
    "df['installs'] = df['installs'].apply(lambda x: x.replace(',', '') if ',' in str(x) else x)\n",
    "df['installs'] = df['installs'].apply(lambda x: int(x))"
   ]
  },
  {
   "cell_type": "code",
   "execution_count": null,
   "metadata": {},
   "outputs": [],
   "source": [
    "df['size'] = df['size'].apply(lambda x: str(x).replace('M', '') if 'M' in str(x) else x)\n",
    "df['size'] = df['size'].apply(lambda x: str(x).replace(',', '') if 'M' in str(x) else x)\n",
    "df['size'] = df['size'].apply(lambda x: int(str(x).replace('k', '')) / 1024 if 'k' in str(x) else x)\n",
    "df['size'].value_counts()"
   ]
  },
  {
   "cell_type": "code",
   "execution_count": null,
   "metadata": {},
   "outputs": [],
   "source": [
    "df_app"
   ]
  },
  {
   "cell_type": "code",
   "execution_count": null,
   "metadata": {},
   "outputs": [],
   "source": [
    "df_app.describe()"
   ]
  },
  {
   "cell_type": "code",
   "execution_count": null,
   "metadata": {},
   "outputs": [],
   "source": [
    "df=df_app.drop_duplicates(subset='title')"
   ]
  },
  {
   "cell_type": "code",
   "execution_count": null,
   "metadata": {},
   "outputs": [],
   "source": [
    "df"
   ]
  },
  {
   "cell_type": "code",
   "execution_count": null,
   "metadata": {},
   "outputs": [],
   "source": [
    "Freetop10_category=df_free['category'].value_counts().head(10)\n",
    "Freetop10_category"
   ]
  },
  {
   "cell_type": "code",
   "execution_count": null,
   "metadata": {},
   "outputs": [],
   "source": [
    "Paidtop10_category=df_paid['category'].value_counts().head(10)\n",
    "Paidtop10_category"
   ]
  },
  {
   "cell_type": "code",
   "execution_count": null,
   "metadata": {},
   "outputs": [],
   "source": [
    "from pyecharts import Pie\n",
    "from IPython.display import IFrame"
   ]
  },
  {
   "cell_type": "code",
   "execution_count": null,
   "metadata": {},
   "outputs": [],
   "source": [
    "attr_Paid=list(Paidtop10_category.index)\n",
    "attr_Free=list(Freetop10_category.index)\n",
    "vPaid=Paidtop10_category\n",
    "vFree=Freetop10_category\n",
    "pie=Pie('Type top10 Apps',title_pos='center',width=1000,height=400)\n",
    "pie.add('Paid',attr_Paid,vPaid,center=[26,50],radius=[35,75],rosetype='radius',\n",
    "       is_legend_show=False,is_label_show=True,legend_orient='vertical')\n",
    "pie.add('Free',attr_Free,vFree,center=[70,50],is_random=True,radius=[35,75],rosetype='radius',\n",
    "       is_legend_show=False,is_label_show=True,legend_orient='vertical')\n",
    "pie.render('Type top10 Apps(final).html')"
   ]
  },
  {
   "cell_type": "code",
   "execution_count": null,
   "metadata": {},
   "outputs": [],
   "source": [
    "Frame('Type top10 Apps(final).html',width=1000,height=400)"
   ]
  },
  {
   "cell_type": "markdown",
   "metadata": {},
   "source": [
    "![Fig.3](https://github.com/Jasmine-dudu/Final-Project/blob/master/Figures-Final%20Project/Fig.3.png?raw=true)"
   ]
  },
  {
   "cell_type": "markdown",
   "metadata": {},
   "source": [
    "The graph on the left demonstrates the percentage of category diversity among paid apps, while the diagram on the right shows that among free apps. It is apparent to see that Tools is the most popular category in both free and paid apps. Adventure, Simulation, and Personalization apps are desirable among paid apps, and mobile games apps usually require payment. At the same time, Communication, Social and Shopping applications free of charge are much beloved by users. We suppose these kinds of apps need to provide gratis services in order to attract more users as a large number of users can bring substantial investment."
   ]
  },
  {
   "cell_type": "code",
   "execution_count": null,
   "metadata": {},
   "outputs": [],
   "source": [
    "import csv\n",
    "import pandas as pd\n",
    "import numpy as ny \n",
    "df = pd.read_csv('googleapp Data cleaning.csv',index_col=0)"
   ]
  },
  {
   "cell_type": "code",
   "execution_count": null,
   "metadata": {},
   "outputs": [],
   "source": [
    "Fufei = df[(df['Type'] == 'Paid')]"
   ]
  },
  {
   "cell_type": "code",
   "execution_count": null,
   "metadata": {},
   "outputs": [],
   "source": [
    "import matplotlib.pyplot as plt\n",
    "x = Fufei.Price\n",
    "y = Fufei.Installs \n",
    "plt.scatter(x, y, alpha=0.5)\n",
    "plt.xlabel('Price')\n",
    "plt.ylabel('Installs')\n",
    "plt.title('Price & Installs') \n",
    "plt.autoscale(tight=True)\n",
    "plt.show()"
   ]
  },
  {
   "cell_type": "markdown",
   "metadata": {},
   "source": [
    "![Fig.4](https://github.com/Jasmine-dudu/Final-Project/blob/master/Figures-Final%20Project/Fig.4.png?raw=true)"
   ]
  },
  {
   "cell_type": "markdown",
   "metadata": {},
   "source": [
    "The two pie charts show that people are more likely to pay on Personalization and Game, which means app developers need to consider the individuation and funny designs in apps to improve profits. But the prices of apps need to be between a reasonable range, the scatter diagram shows that the apps costing less than $5 are more popular. Users would not like to pay much for purchasing applications, thus, apps which cost more may need to provide a free trial to increase consuming willingness. Or they can change the sales model, cutting down install price and providing purchasing options within the app, just like some mobile games, we call this “Kejin” model."
   ]
  },
  {
   "cell_type": "markdown",
   "metadata": {},
   "source": [
    "### 3. About Apps’ Sizes"
   ]
  },
  {
   "cell_type": "code",
   "execution_count": null,
   "metadata": {},
   "outputs": [],
   "source": [
    "df=df[~df['size'].str.contains('Varies with device',na=False)]\n",
    "df['size'].value_counts()"
   ]
  },
  {
   "cell_type": "code",
   "execution_count": null,
   "metadata": {},
   "outputs": [],
   "source": [
    "df['size']=df['size'].astype('float')"
   ]
  },
  {
   "cell_type": "code",
   "execution_count": null,
   "metadata": {},
   "outputs": [],
   "source": [
    "df.info()"
   ]
  },
  {
   "cell_type": "code",
   "execution_count": null,
   "metadata": {},
   "outputs": [],
   "source": [
    "size=df['size']\n",
    "se_size=pd.Series(size)\n",
    "bins=[0,20,40,60,80,100,120]\n",
    "se1=pd.cut(se_size,bins)\n",
    "se1"
   ]
  },
  {
   "cell_type": "code",
   "execution_count": null,
   "metadata": {},
   "outputs": [],
   "source": [
    "size_dis=se1.value_counts()\n",
    "size_dis"
   ]
  },
  {
   "cell_type": "code",
   "execution_count": null,
   "metadata": {},
   "outputs": [],
   "source": [
    "df['size section']=se1"
   ]
  },
  {
   "cell_type": "code",
   "execution_count": null,
   "metadata": {},
   "outputs": [],
   "source": [
    "df"
   ]
  },
  {
   "cell_type": "code",
   "execution_count": null,
   "metadata": {},
   "outputs": [],
   "source": [
    "installs=df['installs']\n",
    "se_installs=pd.Series(installs)\n",
    "bins=[0,100000,10000000,1000000000]\n",
    "install_section=pd.cut(se_installs,bins)\n",
    "install_section"
   ]
  },
  {
   "cell_type": "code",
   "execution_count": null,
   "metadata": {},
   "outputs": [],
   "source": [
    "installs_dis=install_section.value_counts()\n",
    "installs_dis"
   ]
  },
  {
   "cell_type": "code",
   "execution_count": null,
   "metadata": {},
   "outputs": [],
   "source": [
    "df['install_section'] =install_section\n",
    "df"
   ]
  },
  {
   "cell_type": "code",
   "execution_count": null,
   "metadata": {},
   "outputs": [],
   "source": [
    "import seaborn as sns"
   ]
  },
  {
   "cell_type": "code",
   "execution_count": null,
   "metadata": {},
   "outputs": [],
   "source": [
    "ax=sns.violinplot(x='install_section', y='size', data=df)"
   ]
  },
  {
   "cell_type": "markdown",
   "metadata": {},
   "source": [
    "![Fig.5](https://github.com/Jasmine-dudu/Final-Project/blob/master/Figures-Final%20Project/Fig.5.png?raw=true)"
   ]
  },
  {
   "cell_type": "markdown",
   "metadata": {},
   "source": [
    "The chart illustrates that when the sizes are in the range of 15~60 M, users are more likely to install the apps. This conclusion leads to a strategy that developers need to control the size of apps in this range, and if the size of an app cannot be compressed, maybe they should solve this problem by dividing the process of download by many times or updating them step by step.   "
   ]
  },
  {
   "cell_type": "markdown",
   "metadata": {},
   "source": [
    "### 4. About Promotion Strategy "
   ]
  },
  {
   "cell_type": "markdown",
   "metadata": {},
   "source": [
    "We grab the information of some apps’ reviews and analyze them from Polarity and Subjectivity. When it comes to Polarity, we aim to define if the reviews are positive, negative or neutral. In terms of Subjectivity, the purpose is to determine whether the users’ attitude is subjective or objective.\n",
    "Facebook gets 4 stars in scoring and Pass obtains only 3 stars. Their detailed information related to comments is shown below:"
   ]
  },
  {
   "cell_type": "code",
   "execution_count": null,
   "metadata": {},
   "outputs": [],
   "source": [
    "#Facebook 4*\n",
    "from selenium import webdriver\n",
    "\n",
    "browser = webdriver.Chrome()\n",
    "browser.get(\"https://play.google.com/store/apps/details?id=com.facebook.katana&hl=en_GB&showAllReviews=true\")\n",
    "\n",
    "articles_facebook = []\n",
    "for session in browser.find_elements_by_css_selector('.d15Mdf.bAhLNe'): \n",
    "    article = {}\n",
    "    h = session.find_element_by_css_selector(\".UD7Dzf\")\n",
    "    article['headline'] = h.text #find headline block\n",
    "\n",
    "    #article['url'] = h.get_attribute('href') #get url attributes from headline block\n",
    "    #article['date'] = session.find_element_by_css_selector(\"span.cnnDateStamp\").text #find date\n",
    "    articles_facebook.append(article)\n",
    "    \n",
    "    \n",
    "articles_facebook"
   ]
  },
  {
   "cell_type": "code",
   "execution_count": null,
   "metadata": {},
   "outputs": [],
   "source": [
    "from textblob import TextBlob\n",
    "i = len(articles_facebook)-1\n",
    "\n",
    "while i >= 0:\n",
    "    print(i+1)\n",
    "    print(TextBlob(articles_facebook[i][\"headline\"]).sentiment)\n",
    "    i=i-1"
   ]
  },
  {
   "cell_type": "code",
   "execution_count": null,
   "metadata": {},
   "outputs": [],
   "source": [
    "i=len(articles_facebook)-1\n",
    "polar=[]\n",
    "subject=[]\n",
    "\n",
    "while i >=0:\n",
    "    a=TextBlob(articles_facebook[i]['headline']).sentiment.polarity\n",
    "    b=TextBlob(articles_facebook[i]['headline']).sentiment.subjectivity\n",
    "\n",
    "    subject.append(b)\n",
    "    polar.append(a)\n",
    "\n",
    "    i=i-1\n",
    "#print(\"polarity: \",\"\\n\",polar,\"\\n\",\"\\n\",\"subjectivity:\",\"\\n\",subject)\n",
    "\n",
    "import pandas as pd\n",
    "import numpy as np\n",
    "df_facebook = pd.DataFrame(polar,columns = [\"Polarity\"])\n",
    "df_facebook.insert(0, \"Subjectivity\", subject)\n",
    "\n",
    "df_facebook.to_csv(\"facebook.csv\", index=False )\n",
    "df_facebook"
   ]
  },
  {
   "cell_type": "code",
   "execution_count": null,
   "metadata": {},
   "outputs": [],
   "source": [
    "df_facebook.mean()"
   ]
  },
  {
   "cell_type": "code",
   "execution_count": null,
   "metadata": {},
   "outputs": [],
   "source": [
    "#Pass 3*\n",
    "from selenium import webdriver\n",
    "\n",
    "browser = webdriver.Chrome()\n",
    "browser.get(\"https://play.google.com/store/apps/details?id=com.sonymobile.xperialounge.services&hl=en_GB&showAllReviews=true\")\n",
    "\n",
    "articles_pass = []\n",
    "for session in browser.find_elements_by_css_selector('.d15Mdf.bAhLNe'):  \n",
    "    article = {}\n",
    "    h = session.find_element_by_css_selector(\".UD7Dzf\")\n",
    "    article['headline'] = h.text #find headline block\n",
    "\n",
    "    #article['url'] = h.get_attribute('href') #get url attributes from headline block\n",
    "    #article['date'] = session.find_element_by_css_selector(\"span.cnnDateStamp\").text #find date\n",
    "    articles_pass.append(article)\n",
    "    \n",
    "    \n",
    "#articles_pass"
   ]
  },
  {
   "cell_type": "code",
   "execution_count": null,
   "metadata": {},
   "outputs": [],
   "source": [
    "i = len(articles_pass)-1\n",
    "\n",
    "while i >= 0:\n",
    "    print(i+1)\n",
    "    print(TextBlob(articles_pass[i][\"headline\"]).sentiment)\n",
    "    i=i-1"
   ]
  },
  {
   "cell_type": "code",
   "execution_count": null,
   "metadata": {},
   "outputs": [],
   "source": [
    "i=len(articles_pass)-1\n",
    "polar=[]\n",
    "subject=[]\n",
    "\n",
    "while i >=0:\n",
    "    a=TextBlob(articles_pass[i]['headline']).sentiment.polarity\n",
    "    b=TextBlob(articles_pass[i]['headline']).sentiment.subjectivity\n",
    "\n",
    "    subject.append(b)\n",
    "    polar.append(a)\n",
    "\n",
    "    i=i-1\n",
    "#print(\"polarity: \",\"\\n\",polar,\"\\n\",\"\\n\",\"subjectivity:\",\"\\n\",subject)\n",
    "\n",
    "import pandas as pd\n",
    "import numpy as np\n",
    "df_pass = pd.DataFrame(polar,columns = [\"Polarity\"])\n",
    "df_pass.insert(0, \"Subjectivity\", subject)\n",
    "\n",
    "df_pass.to_csv(\"pass.csv\", index=False )\n",
    "df_pass"
   ]
  },
  {
   "cell_type": "code",
   "execution_count": null,
   "metadata": {},
   "outputs": [],
   "source": [
    "df_pass.mean()"
   ]
  },
  {
   "cell_type": "code",
   "execution_count": null,
   "metadata": {},
   "outputs": [],
   "source": [
    "# Facebook 的评论"
   ]
  },
  {
   "cell_type": "code",
   "execution_count": null,
   "metadata": {},
   "outputs": [],
   "source": [
    "import pandas as pd\n",
    "import numpy as np\n",
    "df_facebook = pd.read_csv('facebook.csv')\n",
    "df_facebook.mean()"
   ]
  },
  {
   "cell_type": "code",
   "execution_count": null,
   "metadata": {},
   "outputs": [],
   "source": [
    "from pyecharts import Pie\n",
    "from IPython.display import IFrame\n",
    "attr = ['Negative','Neutral','Positive']\n",
    "v1 = [18,4,18]\n",
    "pie = Pie(width ='100%', height='100vh')\n",
    "pie.add('',attr,v1,is_label_show = True)\n",
    "pie.render('facebook_Polarity.html') \n",
    "pie"
   ]
  },
  {
   "cell_type": "code",
   "execution_count": 7,
   "metadata": {},
   "outputs": [
    {
     "data": {
      "text/html": [
       "<img src=\"https://github.com/Jasmine-dudu/Final-Project/blob/master/Figures-Final%20Project/Fig.6.png?raw=true\" width=\"700\" height=\"700\"/>"
      ],
      "text/plain": [
       "<IPython.core.display.Image object>"
      ]
     },
     "execution_count": 7,
     "metadata": {},
     "output_type": "execute_result"
    }
   ],
   "source": [
    "from IPython.display import Image\n",
    "from IPython.core.display import HTML\n",
    "Image(url= \"https://github.com/Jasmine-dudu/Final-Project/blob/master/Figures-Final%20Project/Fig.6.png?raw=true\", width=700, height=700)"
   ]
  },
  {
   "cell_type": "code",
   "execution_count": null,
   "metadata": {},
   "outputs": [],
   "source": [
    "attr = ['Subjective','Objective']\n",
    "v1 = [19,21]\n",
    "pie = Pie(width ='100%', height='100vh')\n",
    "pie.add('',attr,v1,is_label_show = True)\n",
    "pie.render('Facebook_Subjectivity.html') \n",
    "pie"
   ]
  },
  {
   "cell_type": "code",
   "execution_count": 9,
   "metadata": {},
   "outputs": [
    {
     "data": {
      "text/html": [
       "<img src=\"https://github.com/Jasmine-dudu/Final-Project/blob/master/Figures-Final%20Project/Fig.8.png?raw=true\" width=\"700\" height=\"700\"/>"
      ],
      "text/plain": [
       "<IPython.core.display.Image object>"
      ]
     },
     "execution_count": 9,
     "metadata": {},
     "output_type": "execute_result"
    }
   ],
   "source": [
    "from IPython.display import Image\n",
    "from IPython.core.display import HTML \n",
    "Image(url= \"https://github.com/Jasmine-dudu/Final-Project/blob/master/Figures-Final%20Project/Fig.8.png?raw=true\", width=700, height=700)"
   ]
  },
  {
   "cell_type": "code",
   "execution_count": null,
   "metadata": {},
   "outputs": [],
   "source": [
    "# Pass 的评论"
   ]
  },
  {
   "cell_type": "code",
   "execution_count": null,
   "metadata": {},
   "outputs": [],
   "source": [
    "import pandas as pd\n",
    "import numpy as np\n",
    "df_pass = pd.read_csv('pass.csv')\n",
    "df_pass.mean()"
   ]
  },
  {
   "cell_type": "code",
   "execution_count": null,
   "metadata": {},
   "outputs": [],
   "source": [
    "from pyecharts import Pie\n",
    "from IPython.display import IFrame\n",
    "\n",
    "attr = ['Negative','Neutral','Positive']\n",
    "v1 = [14,12,4]\n",
    "pie = Pie(width='100%', height='100vh')\n",
    "pie.add('',attr,v1,is_label_show = True)\n",
    "\n",
    "\n",
    "pie.render('Pass_Polarity.html') \n",
    "\n",
    "pie"
   ]
  },
  {
   "cell_type": "code",
   "execution_count": 8,
   "metadata": {},
   "outputs": [
    {
     "data": {
      "text/html": [
       "<img src=\"https://github.com/Jasmine-dudu/Final-Project/blob/master/Figures-Final%20Project/Fig.7.png?raw=true\" width=\"700\" height=\"700\"/>"
      ],
      "text/plain": [
       "<IPython.core.display.Image object>"
      ]
     },
     "execution_count": 8,
     "metadata": {},
     "output_type": "execute_result"
    }
   ],
   "source": [
    "from IPython.display import Image\n",
    "from IPython.core.display import HTML\n",
    "Image(url= \"https://github.com/Jasmine-dudu/Final-Project/blob/master/Figures-Final%20Project/Fig.7.png?raw=true\", width=700, height=700)"
   ]
  },
  {
   "cell_type": "code",
   "execution_count": null,
   "metadata": {},
   "outputs": [],
   "source": [
    "attr = ['Subjective','Objective']\n",
    "v1 = [9,31]\n",
    "pie = Pie(width ='100%', height='100vh')\n",
    "pie.add('',attr,v1,is_label_show = True)\n",
    "pie.render('Pass_Subjectivity.html') \n",
    "pie"
   ]
  },
  {
   "cell_type": "code",
   "execution_count": 10,
   "metadata": {},
   "outputs": [
    {
     "data": {
      "text/html": [
       "<img src=\"https://github.com/Jasmine-dudu/Final-Project/blob/master/Figures-Final%20Project/Fig.9.png?raw=true\" width=\"700\" height=\"700\"/>"
      ],
      "text/plain": [
       "<IPython.core.display.Image object>"
      ]
     },
     "execution_count": 10,
     "metadata": {},
     "output_type": "execute_result"
    }
   ],
   "source": [
    "from IPython.display import Image\n",
    "from IPython.core.display import HTML\n",
    "Image(url= \"https://github.com/Jasmine-dudu/Final-Project/blob/master/Figures-Final%20Project/Fig.9.png?raw=true\", width=700, height=700)"
   ]
  },
  {
   "cell_type": "markdown",
   "metadata": {},
   "source": [
    "#### (1) Polarity:"
   ]
  },
  {
   "cell_type": "markdown",
   "metadata": {},
   "source": [
    "With a decrease in score, we can come to an agreement that the percentage of positive comments sharply decrease from 45% to 13%, however, there isn’t show an upward trend in the percentage of negative comments. On the contrary, it is neutral which owned a big proportion in the total. Hence it is not difficult to conclude that, among the attitude and comments of an app, the quantity of negative reviews always remains steady. So, the favor of neutrals and their positive comments needs to be wooed for the app developers."
   ]
  },
  {
   "cell_type": "markdown",
   "metadata": {},
   "source": [
    "#### (2) Subjectivity: "
   ]
  },
  {
   "cell_type": "markdown",
   "metadata": {},
   "source": [
    "From the comparison of pie graphs, we can see that the subjectivity shows more intense in the low scores’ comments. Instead, the positive comments can usually take on the appearance of objectivity. As we suspected, the terrible experience brings bad feelings, such as disappointment, boredom or anger may cause a stronger subjectivity. It is much better for app developers to set the comments pop-up windows after users get a great sense of tremendous fulfillment (such as the situations like the accomplishment of certain tasks or some achievements specific to the game). Certainly, the developers need to avoid the setting of comments pop-up windows after the awful experience (for example, some function modules without improvement).\n",
    "Of course, our analysis is confined on a small scale. If we need to pass the validation of the conjecture or generalize a conclusion, it is possible to complement more samples in subsequent studies. "
   ]
  },
  {
   "cell_type": "code",
   "execution_count": null,
   "metadata": {},
   "outputs": [],
   "source": [
    "#df['Reviews']"
   ]
  },
  {
   "cell_type": "code",
   "execution_count": null,
   "metadata": {},
   "outputs": [],
   "source": [
    "mport pandas as pd\n",
    "import numpy as np\n",
    "df = pd.read_csv(\"googleapp Data cleaning.csv\")\n",
    "df\n",
    "\n",
    "\n",
    "import pandas as pd\n",
    "import matplotlib.pyplot as plt  \n",
    "plt.rcParams['font.sans-serif'] = [u'SimHei']\n",
    "plt.rcParams['axes.unicode_minus'] = False\n",
    "\n",
    "df = pd.DataFrame({'Reviews':df[\"Reviews\"],'Installs':df[\"Installs\"]})\n",
    "\n",
    "groupbyDistrict=df.groupby('Reviews')\n",
    "\n",
    "\n",
    "groupbyD = groupbyDistrict.mean().sort_values('Installs', ascending=True).reset_index()\n",
    "#print(groupbyD)\n",
    "\n",
    "#ax = df.plot.bar(x='Reviews', y='Installs', rot=270)\n",
    "\n",
    "print(groupbyD.head())\n",
    "plt.plot(groupbyD.head(100))\n",
    "plt.show()"
   ]
  },
  {
   "cell_type": "markdown",
   "metadata": {},
   "source": [
    "![Fig.10](https://github.com/Jasmine-dudu/Final-Project/blob/master/Figures-Final%20Project/Fig.10.png?raw=true)"
   ]
  },
  {
   "cell_type": "markdown",
   "metadata": {},
   "source": [
    "Also, it is strange to note no matter how much the installs increase, the reviews keep relatively stable with no more than 1k users willing to review. Users' willingness to comment needs to be stimulated by something and the apps developers should not only wait for users to give their positive assessments voluntarily but should guide their users to make positive reviews since it can help to build a good reputation and product image. "
   ]
  },
  {
   "cell_type": "markdown",
   "metadata": {},
   "source": [
    "### 5. About Content Rating and Potential Market  "
   ]
  },
  {
   "cell_type": "code",
   "execution_count": null,
   "metadata": {},
   "outputs": [],
   "source": [
    "import csv\n",
    "import pandas as pd\n",
    "import numpy as ny \n",
    "df = pd.read_csv('google app final.csv',index_col=0)"
   ]
  },
  {
   "cell_type": "code",
   "execution_count": null,
   "metadata": {},
   "outputs": [],
   "source": [
    "a = df[(df['content_rating'] == 'Teen')]\n",
    "b = df[(df['content_rating'] == 'Everyone 10+')]\n",
    "c = df[(df['content_rating'] == 'Mature 17+')] \n",
    "d = df[(df['content_rating'] == 'Everyone')]\n",
    "User_type = pd.concat([a,b,c])"
   ]
  },
  {
   "cell_type": "code",
   "execution_count": null,
   "metadata": {},
   "outputs": [],
   "source": [
    "import plotly.plotly as py\n",
    "import plotly.graph_objs as go\n",
    "\n",
    "trace1 = go.Bar(\n",
    "    x = User_type['category'],\n",
    "    y = d['content_rating'],\n",
    "    name= '',\n",
    "    marker=dict(\n",
    "        color='white',\n",
    "))\n",
    "trace2 = go.Bar(\n",
    "    x = User_type['category'],\n",
    "    y = a['content_rating'],\n",
    "    name='Teen'\n",
    ")\n",
    "trace3 = go.Bar(\n",
    "    x = User_type['category'],\n",
    "    y= b['content_rating'],\n",
    "    name='Everyone 10+'\n",
    ")\n",
    "trace4 = go.Bar(\n",
    "    x = User_type['category'],\n",
    "    y =c['content_rating'],\n",
    "    name='Mature 17+'\n",
    ")\n",
    "data = [trace1,trace2, trace3,trace4]\n",
    "layout = go.Layout(\n",
    "    barmode='stack',\n",
    "    title='Content Rating& Category of Popular Apps'\n",
    ")\n",
    "\n",
    "fig = go.Figure(data=data, layout=layout)\n",
    "py.iplot(fig, title='Content Rating & Category',filename='stacked-bar')"
   ]
  },
  {
   "cell_type": "markdown",
   "metadata": {},
   "source": [
    "![Fig.11](https://github.com/Jasmine-dudu/Final-Project/blob/master/Figures-Final%20Project/Fig.11.png?raw=true)"
   ]
  },
  {
   "cell_type": "code",
   "execution_count": null,
   "metadata": {},
   "outputs": [],
   "source": [
    "import csv\n",
    "import pandas as pd\n",
    "import numpy as ny \n",
    "df = pd.read_csv('googleapp Data cleaning.csv',index_col=0)"
   ]
  },
  {
   "cell_type": "code",
   "execution_count": null,
   "metadata": {},
   "outputs": [],
   "source": [
    "a = df[(df['Content Rating'] == 'Teen')]\n",
    "b = df[(df['Content Rating'] == 'Everyone 10+')]\n",
    "c = df[(df['Content Rating'] == 'Mature 17+')]\n",
    "d = df[(df['Content Rating'] == 'Everyone')]\n",
    "User_type = pd.concat([a,b,c])"
   ]
  },
  {
   "cell_type": "code",
   "execution_count": null,
   "metadata": {},
   "outputs": [],
   "source": [
    "import plotly.plotly as py\n",
    "import plotly.graph_objs as go\n",
    "\n",
    "trace1 = go.Bar(\n",
    "    x = User_type['Category'],\n",
    "    y = d['Content Rating'],\n",
    "    name= '',\n",
    "    marker=dict(\n",
    "        color='white',\n",
    "))\n",
    "trace2 = go.Bar(\n",
    "    x = User_type['Category'],\n",
    "    y = a['Content Rating'],\n",
    "    name='Teen'\n",
    ")\n",
    "trace3 = go.Bar(\n",
    "    x = User_type['Category'],\n",
    "    y= b['Content Rating'],\n",
    "    name='Everyone 10+'\n",
    ")\n",
    "trace4 = go.Bar(\n",
    "    x = User_type['Category'],\n",
    "    y =c['Content Rating'],\n",
    "    name='Mature 17+'\n",
    ")\n",
    "data = [trace1,trace2, trace3,trace4]\n",
    "layout = go.Layout(\n",
    "    barmode='stack',\n",
    "    title='Content Rating& Category of High Score Apps'\n",
    ")\n",
    "\n",
    "fig = go.Figure(data=data, layout=layout)\n",
    "py.iplot(fig, title='Content Rating & Category',filename='stacked-bar')"
   ]
  },
  {
   "cell_type": "markdown",
   "metadata": {},
   "source": [
    "![Fig.12](https://github.com/Jasmine-dudu/Final-Project/blob/master/Figures-Final%20Project/Fig.12.png?raw=true)"
   ]
  },
  {
   "cell_type": "markdown",
   "metadata": {},
   "source": [
    "According to the Content Rating, these apps are divided into four types, including Everyone, Teen, Everyone 10+ and Mature 17+. The bar charts show three types except for Everyone (Fig.11 & Fig.12). Considering the inclusion relation, we mainly focus on the Mature 17+ and Teen type. We discovered Social and Game are the two types of apps which are usually popular, and also gain high scores from people; The apps of Music couldn’t achieve a high score, though their capacity of downloading is always large; and also, the apps of Family cannot gain the users’ attention in spite of high-quality. Moreover, the most popular category for adults is social, but it is apparent to see that this market is very mature, both in the quality and quantity. And there are still gaps in the market both for teen and adults in Education."
   ]
  },
  {
   "cell_type": "code",
   "execution_count": null,
   "metadata": {},
   "outputs": [],
   "source": [
    "df2=df[(df['Content Rating'] == 'Mature 17+')]\n",
    "df2"
   ]
  },
  {
   "cell_type": "markdown",
   "metadata": {},
   "source": [
    "![Fig.13](https://github.com/Jasmine-dudu/Final-Project/blob/master/Figures-Final%20Project/Fig.13.png?raw=true)"
   ]
  },
  {
   "cell_type": "markdown",
   "metadata": {},
   "source": [
    "In addition, we find something interesting. Apps related to the category of Family are mainly for parent-child with the function of education or brain games. There are so many family apps under the mature 17plus tag, which we think is very strange. To give an example, the app called anakare, a typical adventure game not for users under 18, is divided into the family category, while Chat room for kids has the mature 17plus tag. We think this may be a marketing strategy - anakare can face less fierce competition under the category of family, as people may be curious about why such a game with an irrelevant label and install it, then its rank on the list will rise. We suppose this is quite a good way of advertising."
   ]
  },
  {
   "cell_type": "markdown",
   "metadata": {},
   "source": [
    "## III. Conclusions "
   ]
  },
  {
   "cell_type": "markdown",
   "metadata": {},
   "source": [
    "If someone wants to create an application, we will give some suggestions related to the following aspects: \n",
    "Firstly, focusing on the categories like Education and Video Players & Editors will make the developers face less fierce competitions. What’s more, since users would not like to pay much for downloading applications, the operators need to adjust pricing so as to offer attractive products at a bearable margin, and it is better to provide a free trial or insider access for purchasing value-added services. Also, control the sizes of apps under 60 M, otherwise divide the process of download by times or updating them step by step. In addition, do not only wait for users to give their assessments voluntarily but should inspire them to make reviews, especially positive reviews. Last but not least, there are still gaps in the market for teen and adults, developers can design more apps for these two groups."
   ]
  },
  {
   "cell_type": "markdown",
   "metadata": {},
   "source": [
    "We hope our project can help you make and promote an app successfully!"
   ]
  }
 ],
 "metadata": {
  "kernelspec": {
   "display_name": "Python 3",
   "language": "python",
   "name": "python3"
  },
  "language_info": {
   "codemirror_mode": {
    "name": "ipython",
    "version": 3
   },
   "file_extension": ".py",
   "mimetype": "text/x-python",
   "name": "python",
   "nbconvert_exporter": "python",
   "pygments_lexer": "ipython3",
   "version": "3.7.0"
  }
 },
 "nbformat": 4,
 "nbformat_minor": 2
}
